{
  "nbformat": 4,
  "nbformat_minor": 0,
  "metadata": {
    "colab": {
      "provenance": [],
      "authorship_tag": "ABX9TyNt51+NLu0Kwan557edOCmN",
      "include_colab_link": true
    },
    "kernelspec": {
      "name": "python3",
      "display_name": "Python 3"
    },
    "language_info": {
      "name": "python"
    }
  },
  "cells": [
    {
      "cell_type": "markdown",
      "metadata": {
        "id": "view-in-github",
        "colab_type": "text"
      },
      "source": [
        "<a href=\"https://colab.research.google.com/github/BrunooPorto/GlobalCarShop/blob/main/Carros_mais_vendidos.ipynb\" target=\"_parent\"><img src=\"https://colab.research.google.com/assets/colab-badge.svg\" alt=\"Open In Colab\"/></a>"
      ]
    },
    {
      "cell_type": "code",
      "execution_count": null,
      "metadata": {
        "colab": {
          "base_uri": "https://localhost:8080/"
        },
        "id": "AiOyMPLq_un1",
        "outputId": "85aed63e-a152-4b6b-f42f-aaf9d08d13cb"
      },
      "outputs": [
        {
          "output_type": "stream",
          "name": "stdout",
          "text": [
            "Requirement already satisfied: pandas in /usr/local/lib/python3.10/dist-packages (2.2.2)\n",
            "Requirement already satisfied: matplotlib in /usr/local/lib/python3.10/dist-packages (3.8.0)\n",
            "Requirement already satisfied: streamlit in /usr/local/lib/python3.10/dist-packages (1.41.0)\n",
            "Requirement already satisfied: numpy>=1.22.4 in /usr/local/lib/python3.10/dist-packages (from pandas) (1.26.4)\n",
            "Requirement already satisfied: python-dateutil>=2.8.2 in /usr/local/lib/python3.10/dist-packages (from pandas) (2.8.2)\n",
            "Requirement already satisfied: pytz>=2020.1 in /usr/local/lib/python3.10/dist-packages (from pandas) (2024.2)\n",
            "Requirement already satisfied: tzdata>=2022.7 in /usr/local/lib/python3.10/dist-packages (from pandas) (2024.2)\n",
            "Requirement already satisfied: contourpy>=1.0.1 in /usr/local/lib/python3.10/dist-packages (from matplotlib) (1.3.1)\n",
            "Requirement already satisfied: cycler>=0.10 in /usr/local/lib/python3.10/dist-packages (from matplotlib) (0.12.1)\n",
            "Requirement already satisfied: fonttools>=4.22.0 in /usr/local/lib/python3.10/dist-packages (from matplotlib) (4.55.1)\n",
            "Requirement already satisfied: kiwisolver>=1.0.1 in /usr/local/lib/python3.10/dist-packages (from matplotlib) (1.4.7)\n",
            "Requirement already satisfied: packaging>=20.0 in /usr/local/lib/python3.10/dist-packages (from matplotlib) (24.2)\n",
            "Requirement already satisfied: pillow>=6.2.0 in /usr/local/lib/python3.10/dist-packages (from matplotlib) (11.0.0)\n",
            "Requirement already satisfied: pyparsing>=2.3.1 in /usr/local/lib/python3.10/dist-packages (from matplotlib) (3.2.0)\n",
            "Requirement already satisfied: altair<6,>=4.0 in /usr/local/lib/python3.10/dist-packages (from streamlit) (4.2.2)\n",
            "Requirement already satisfied: blinker<2,>=1.0.0 in /usr/local/lib/python3.10/dist-packages (from streamlit) (1.9.0)\n",
            "Requirement already satisfied: cachetools<6,>=4.0 in /usr/local/lib/python3.10/dist-packages (from streamlit) (5.5.0)\n",
            "Requirement already satisfied: click<9,>=7.0 in /usr/local/lib/python3.10/dist-packages (from streamlit) (8.1.7)\n",
            "Requirement already satisfied: protobuf<6,>=3.20 in /usr/local/lib/python3.10/dist-packages (from streamlit) (4.25.5)\n",
            "Requirement already satisfied: pyarrow>=7.0 in /usr/local/lib/python3.10/dist-packages (from streamlit) (17.0.0)\n",
            "Requirement already satisfied: requests<3,>=2.27 in /usr/local/lib/python3.10/dist-packages (from streamlit) (2.32.3)\n",
            "Requirement already satisfied: rich<14,>=10.14.0 in /usr/local/lib/python3.10/dist-packages (from streamlit) (13.9.4)\n",
            "Requirement already satisfied: tenacity<10,>=8.1.0 in /usr/local/lib/python3.10/dist-packages (from streamlit) (9.0.0)\n",
            "Requirement already satisfied: toml<2,>=0.10.1 in /usr/local/lib/python3.10/dist-packages (from streamlit) (0.10.2)\n",
            "Requirement already satisfied: typing-extensions<5,>=4.3.0 in /usr/local/lib/python3.10/dist-packages (from streamlit) (4.12.2)\n",
            "Requirement already satisfied: watchdog<7,>=2.1.5 in /usr/local/lib/python3.10/dist-packages (from streamlit) (6.0.0)\n",
            "Requirement already satisfied: gitpython!=3.1.19,<4,>=3.0.7 in /usr/local/lib/python3.10/dist-packages (from streamlit) (3.1.43)\n",
            "Requirement already satisfied: pydeck<1,>=0.8.0b4 in /usr/local/lib/python3.10/dist-packages (from streamlit) (0.9.1)\n",
            "Requirement already satisfied: tornado<7,>=6.0.3 in /usr/local/lib/python3.10/dist-packages (from streamlit) (6.3.3)\n",
            "Requirement already satisfied: entrypoints in /usr/local/lib/python3.10/dist-packages (from altair<6,>=4.0->streamlit) (0.4)\n",
            "Requirement already satisfied: jinja2 in /usr/local/lib/python3.10/dist-packages (from altair<6,>=4.0->streamlit) (3.1.4)\n",
            "Requirement already satisfied: jsonschema>=3.0 in /usr/local/lib/python3.10/dist-packages (from altair<6,>=4.0->streamlit) (4.23.0)\n",
            "Requirement already satisfied: toolz in /usr/local/lib/python3.10/dist-packages (from altair<6,>=4.0->streamlit) (0.12.1)\n",
            "Requirement already satisfied: gitdb<5,>=4.0.1 in /usr/local/lib/python3.10/dist-packages (from gitpython!=3.1.19,<4,>=3.0.7->streamlit) (4.0.11)\n",
            "Requirement already satisfied: six>=1.5 in /usr/local/lib/python3.10/dist-packages (from python-dateutil>=2.8.2->pandas) (1.16.0)\n",
            "Requirement already satisfied: charset-normalizer<4,>=2 in /usr/local/lib/python3.10/dist-packages (from requests<3,>=2.27->streamlit) (3.4.0)\n",
            "Requirement already satisfied: idna<4,>=2.5 in /usr/local/lib/python3.10/dist-packages (from requests<3,>=2.27->streamlit) (3.10)\n",
            "Requirement already satisfied: urllib3<3,>=1.21.1 in /usr/local/lib/python3.10/dist-packages (from requests<3,>=2.27->streamlit) (2.2.3)\n",
            "Requirement already satisfied: certifi>=2017.4.17 in /usr/local/lib/python3.10/dist-packages (from requests<3,>=2.27->streamlit) (2024.8.30)\n",
            "Requirement already satisfied: markdown-it-py>=2.2.0 in /usr/local/lib/python3.10/dist-packages (from rich<14,>=10.14.0->streamlit) (3.0.0)\n",
            "Requirement already satisfied: pygments<3.0.0,>=2.13.0 in /usr/local/lib/python3.10/dist-packages (from rich<14,>=10.14.0->streamlit) (2.18.0)\n",
            "Requirement already satisfied: smmap<6,>=3.0.1 in /usr/local/lib/python3.10/dist-packages (from gitdb<5,>=4.0.1->gitpython!=3.1.19,<4,>=3.0.7->streamlit) (5.0.1)\n",
            "Requirement already satisfied: MarkupSafe>=2.0 in /usr/local/lib/python3.10/dist-packages (from jinja2->altair<6,>=4.0->streamlit) (3.0.2)\n",
            "Requirement already satisfied: attrs>=22.2.0 in /usr/local/lib/python3.10/dist-packages (from jsonschema>=3.0->altair<6,>=4.0->streamlit) (24.2.0)\n",
            "Requirement already satisfied: jsonschema-specifications>=2023.03.6 in /usr/local/lib/python3.10/dist-packages (from jsonschema>=3.0->altair<6,>=4.0->streamlit) (2024.10.1)\n",
            "Requirement already satisfied: referencing>=0.28.4 in /usr/local/lib/python3.10/dist-packages (from jsonschema>=3.0->altair<6,>=4.0->streamlit) (0.35.1)\n",
            "Requirement already satisfied: rpds-py>=0.7.1 in /usr/local/lib/python3.10/dist-packages (from jsonschema>=3.0->altair<6,>=4.0->streamlit) (0.22.3)\n",
            "Requirement already satisfied: mdurl~=0.1 in /usr/local/lib/python3.10/dist-packages (from markdown-it-py>=2.2.0->rich<14,>=10.14.0->streamlit) (0.1.2)\n"
          ]
        }
      ],
      "source": [
        "!pip install pandas matplotlib streamlit\n"
      ]
    },
    {
      "cell_type": "code",
      "source": [
        "#Tentativa de baixar direto pelo kaggle.. mal funciona\n",
        "import kagglehub\n",
        "\n",
        "# Download ultima version\n",
        "path = kagglehub.dataset_download(\"bourzamraid/global-car-make-and-model-list\")\n",
        "\n",
        "print(\"Path to dataset files:\", path) #demora mas as vezes vai"
      ],
      "metadata": {
        "colab": {
          "base_uri": "https://localhost:8080/"
        },
        "id": "EjSrEjwD_ywM",
        "outputId": "5485b47a-ef99-4e58-ea68-c525b658430f"
      },
      "execution_count": null,
      "outputs": [
        {
          "output_type": "stream",
          "name": "stdout",
          "text": [
            "Path to dataset files: /root/.cache/kagglehub/datasets/bourzamraid/global-car-make-and-model-list/versions/1\n"
          ]
        }
      ]
    },
    {
      "cell_type": "code",
      "source": [
        "# Vamos novamente de token\n",
        "!chmod 600 ~/.kaggle/kaggle.json\n",
        "\n",
        "# Baixar o amazon-stok Dataset do Kaggle usei o token/api\n",
        "!kaggle datasets download -dbourzamraid/global-car-make-and-model-list"
      ],
      "metadata": {
        "colab": {
          "base_uri": "https://localhost:8080/"
        },
        "id": "-ItdVORt__h9",
        "outputId": "2d026cae-352b-46d8-b5e6-efe597e3dfba"
      },
      "execution_count": null,
      "outputs": [
        {
          "output_type": "stream",
          "name": "stdout",
          "text": [
            "chmod: cannot access '/root/.kaggle/kaggle.json': No such file or directory\n",
            "Dataset URL: https://www.kaggle.com/datasets/bourzamraid/global-car-make-and-model-list\n",
            "License(s): apache-2.0\n",
            "global-car-make-and-model-list.zip: Skipping, found more recently modified local copy (use --force to force download)\n"
          ]
        }
      ]
    },
    {
      "cell_type": "code",
      "source": [
        "#preparar o zip\n",
        "from zipfile import ZipFile\n",
        "#extrair o zip\n",
        "with ZipFile('global-car-make-and-model-list.zip', 'r') as zip_ref:\n",
        "    zip_ref.extractall('global-car-make-and-model-list')"
      ],
      "metadata": {
        "id": "J3V3MNL2AP9c"
      },
      "execution_count": null,
      "outputs": []
    },
    {
      "cell_type": "code",
      "source": [
        "import pandas as pd\n",
        "import json\n",
        "\n",
        "# coloque arquivo JSON extraído\n",
        "file_path = \"/content/global-car-make-and-model-list/vehicle models.json\"\n",
        "\n",
        "# Carregar o arquivo JSON\n",
        "with open(file_path, 'r') as f:\n",
        "    data_json = json.load(f)\n",
        "\n",
        "# Exibir a estrutura do JSON\n",
        "print(data_json[:3])  # Mostra os 3 primeiros registros\n",
        "\n",
        "# Converter para DataFrame (se os dados estiverem estruturados em uma lista de dicionários)\n",
        "if isinstance(data_json, list):\n",
        "    data = pd.DataFrame(data_json)\n",
        "    print(data.head())\n",
        "    print(data.info())\n",
        "else:\n",
        "    print(\"O JSON não está no formato esperado. Verifique a estrutura.\")\n"
      ],
      "metadata": {
        "colab": {
          "base_uri": "https://localhost:8080/"
        },
        "id": "gp7IBNgGAzQ7",
        "outputId": "d3e8df2c-dcd1-4e9c-d02e-5d494231f4a6"
      },
      "execution_count": null,
      "outputs": [
        {
          "output_type": "stream",
          "name": "stdout",
          "text": [
            "[{'Make': 'AM General', 'Models': ['FJ8c Post Office', 'FJ8c Post Office', 'Post Office DJ5 2WD', 'DJ Po Vehicle 2WD', 'DJ Po Vehicle 2WD', 'Post Office DJ8 2WD']}, {'Make': 'ASC Incorporated', 'Models': ['GNX']}, {'Make': 'Acura', 'Models': ['Legend', 'RDX 4WD', 'TL 4WD', 'TSX', 'MDX 4WD', 'TL', 'TSX', 'Legend', '3.5RL', 'SLX', 'Integra', 'SLX', 'Integra', 'MDX AWD A-SPEC', 'RDX AWD', 'MDX FWD', 'Integra', 'RDX AWD', 'ZDX AWD', 'Integra', 'RDX AWD', 'MDX Hybrid AWD', 'RLX', 'TLX Type-S', 'TL 4WD', 'ZDX 4WD', 'Legend', 'Legend', 'ILX', 'Legend', 'SLX', 'NSX', 'Integra', 'RSX', 'NSX Hybrid', 'Integra A-Spec', 'MDX AWD', 'TSX', 'TL 4WD', 'TSX', 'TL', 'RSX', 'RSX', 'TSX', 'Legend', 'Integra', 'Integra', 'MDX AWD', 'MDX AWD Type-S', 'Integra A-Spec', 'Legend', 'MDX 4WD', 'TL 2WD', 'TL 4WD', 'MDX 4WD', '3.5RL', 'RSX', 'Legend', 'NSX', 'Integra', 'MDX FWD', 'TLX FWD', 'TLX FWD', 'RDX AWD', 'MDX AWD', 'RDX AWD', 'TLX FWD', 'RL', 'Integra', 'Integra', 'ILX', 'MDX 2WD', 'MDX 2WD', 'MDX 4WD', 'RDX FWD', 'TSX', 'TSX', 'TSX', 'TL', 'MDX 4WD', 'NSX', 'Legend', 'SLX', 'NSX', 'TSX Wagon', 'TSX', 'TLX FWD', 'MDX AWD', 'Integra', 'Integra', 'RSX', 'RDX 4WD', 'TSX', 'TLX AWD A-SPEC', 'RLX Hybrid', 'RDX FWD', 'RDX AWD A-SPEC', 'TLX FWD', 'RDX AWD A-SPEC', 'MDX 4WD', '3.2TL', 'MDX 4WD', 'NSX', 'NSX', 'Integra', 'RDX AWD A-SPEC', 'MDX AWD Type-S', 'RDX FWD A-SPEC', 'RLX', 'TLX 4WD', 'NSX', 'ILX', 'TLX FWD', 'TLX AWD', 'TLX AWD A-SPEC', 'TLX FWD', 'Legend', 'TSX', 'TL 4WD', 'RDX 4WD', '3.2CL', 'TLX FWD', 'NSX', 'TLX FWD A-SPEC', 'Integra', 'TLX Type-S', 'TLX FWD A-SPEC', 'ILX', 'TLX', '2.5TL', 'NSX', 'Integra', '3.2TL', '3.2CL', 'RSX', 'TLX Type-S', 'Integra', 'Integra', 'Vigor', 'RDX AWD', 'RDX 4WD', 'TSX', 'ILX', 'Legend', 'SLX', 'RSX', 'NSX', 'RL', 'TSX', 'MDX 4WD', 'ZDX 4WD', 'RDX 4WD', 'ILX', 'ILX Hybrid', 'TSX', 'RLX Hybrid', 'RDX 2WD', 'MDX 4WD', 'RLX Hybrid', 'TLX AWD', 'RDX FWD A-SPEC', 'MDX AWD Type-S', 'RSX', 'TSX', 'Integra', '2.5TL/3.2TL', '3.5RL', 'MDX AWD', 'TLX AWD A-SPEC', 'ILX', 'TSX', 'TL 4WD', 'Integra', 'Vigor', 'Integra', '2.5TL/3.2TL', 'NSX', 'Integra', 'RDX 4WD', 'Legend', 'Vigor', 'TL 4WD', 'TL 4WD', 'RSX', 'TL', '2.3CL/3.0CL', 'Integra', '3.5RL', '3.2CL', 'MDX AWD', 'RLX', 'TLX AWD A-SPEC', 'ILX', 'TLX FWD A-SPEC', 'Integra', 'RDX FWD', 'TLX AWD A-SPEC', 'Legend', 'TLX FWD A-SPEC', 'MDX AWD', 'TLX Type-S Perf Tire', 'TL', 'Integra', 'Legend', 'Legend', 'RLX', 'TSX', 'TSX', 'TL', 'TL', 'Integra', 'Vigor', 'Integra', '2.2CL/3.0CL', '2.3CL/3.0CL', '2.3CL/3.0CL', '3.2CL', 'MDX', '3.2TL', 'NSX', 'RSX', 'MDX FWD', 'TLX AWD', 'RDX FWD', 'RLX Hybrid', 'TLX FWD A-SPEC', 'NSX Hybrid', 'MDX FWD', 'Integra', 'MDX FWD', 'TLX AWD', 'Integra', 'TL 4WD', 'RDX 4WD', 'RLX', 'TLX AWD', 'TLX FWD', 'ILX', 'TLX FWD', 'TLX AWD A-SPEC', 'TL 4WD', 'Legend', 'TSX', 'ILX Hybrid', 'MDX 4WD', 'RLX', 'TLX 2WD', 'NSX', 'MDX 4WD', 'TSX', 'TL 2WD', 'SLX', 'Integra', 'Integra', '2.5TL/3.2TL', 'NSX', 'RDX AWD A-SPEC', 'MDX FWD', 'MDX FWD', 'RL', 'Legend', 'TSX Wagon', 'NSX', 'Integra', 'Legend', '2.5TL/3.2TL', '3.5RL', 'TL 2WD', 'ZDX 4WD', 'MDX 4WD', 'TL 2WD', 'TLX', 'TLX FWD A-SPEC', 'TL', 'Legend', 'Integra', 'Legend', 'Integra', 'Integra', '2.2CL/3.0CL', '3.2TL', '3.2TL', '3.5RL', 'NSX Hybrid', 'RDX FWD', 'NSX Hybrid', 'ILX', 'TLX Type-S Perf Tire', 'RDX AWD A-SPEC', 'NSX Hybrid', 'TLX Type-S Perf Tire', 'TSX', 'TL 2WD', 'RDX 4WD', '2.3CL/3.0CL', 'Integra', 'NSX', 'Legend', 'Integra', 'NSX', 'RSX', 'Legend', 'TSX', 'TLX FWD', 'MDX AWD A-SPEC', 'MDX Hybrid AWD', 'TSX Wagon', 'Legend', 'Integra', 'Legend', 'Integra', 'Legend', '2.5TL/3.2TL', '3.5RL', 'Integra', 'NSX', '3.5RL', 'NSX', 'NSX', 'RDX AWD A-SPEC', 'RDX FWD', 'RDX AWD', 'RSX', 'MDX 4WD', 'Integra', 'NSX', 'NSX', 'MDX', 'RDX 2WD', 'TSX', 'RDX 2WD', 'ZDX 4WD', 'TSX Wagon', 'MDX FWD', 'ILX', 'TLX Type-S', 'Integra A-Spec', 'RSX', 'TL', 'TL', 'RDX 4WD', 'NSX', '3.5RL', 'NSX', 'RSX', 'RDX 2WD', 'TL 2WD', 'RDX 2WD', 'TSX', 'TLX 2WD', 'NSX Hybrid', 'Legend', 'RL', 'NSX', '2.2CL/3.0CL', 'Integra', '2.5TL/3.2TL', 'Integra', 'RSX', 'Integra A-Spec', 'ZDX RWD', 'Legend', 'ILX', 'NSX', 'MDX AWD', 'Integra', 'RLX', 'TLX AWD', 'TSX', 'TSX', 'RDX 4WD', 'TLX AWD', 'NSX', 'TL', 'MDX 4WD', 'MDX 4WD', 'Integra A-Spec', 'Legend', 'NSX', 'MDX Hybrid AWD', 'TLX AWD', 'MDX FWD', 'RDX FWD A-SPEC', 'MDX Hybrid AWD', 'TLX FWD A-SPEC', 'TLX AWD A-SPEC', 'RDX 2WD', 'MDX 2WD', 'RLX Hybrid', 'TL', 'RL', 'RL', 'TL 4WD', 'Integra', 'Vigor', '2.3CL/3.0CL', 'Integra A-Spec', 'Integra', 'RLX Hybrid', 'TLX FWD', 'RDX FWD A-SPEC', 'MDX AWD', 'MDX 2WD', 'RDX 2WD', 'RDX AWD', 'RL', '2.3CL/3.0CL', 'TLX FWD A-SPEC', 'RDX FWD', 'RDX FWD A-SPEC', 'RL', 'TSX', 'ILX', 'Integra', 'Vigor']}]\n",
            "                          Make  \\\n",
            "0                   AM General   \n",
            "1             ASC Incorporated   \n",
            "2                        Acura   \n",
            "3                   Alfa Romeo   \n",
            "4  American Motors Corporation   \n",
            "\n",
            "                                              Models  \n",
            "0  [FJ8c Post Office, FJ8c Post Office, Post Offi...  \n",
            "1                                              [GNX]  \n",
            "2  [Legend, RDX 4WD, TL 4WD, TSX, MDX 4WD, TL, TS...  \n",
            "3  [164, Stelvio, 4C, Giulia, Stelvio AWD, Milano...  \n",
            "4  [Eagle SX/4 4WD, Eagle 4WD, Eagle 4DR Wagon, E...  \n",
            "<class 'pandas.core.frame.DataFrame'>\n",
            "RangeIndex: 144 entries, 0 to 143\n",
            "Data columns (total 2 columns):\n",
            " #   Column  Non-Null Count  Dtype \n",
            "---  ------  --------------  ----- \n",
            " 0   Make    144 non-null    object\n",
            " 1   Models  144 non-null    object\n",
            "dtypes: object(2)\n",
            "memory usage: 2.4+ KB\n",
            "None\n"
          ]
        }
      ]
    },
    {
      "cell_type": "code",
      "source": [
        "print(data.columns)"
      ],
      "metadata": {
        "colab": {
          "base_uri": "https://localhost:8080/"
        },
        "id": "7knj0PqGANt6",
        "outputId": "8a3232cd-b111-4d41-b0bf-1a689746fb8b"
      },
      "execution_count": null,
      "outputs": [
        {
          "output_type": "stream",
          "name": "stdout",
          "text": [
            "Index(['Make', 'Models'], dtype='object')\n"
          ]
        }
      ]
    },
    {
      "cell_type": "code",
      "source": [
        "import pandas as pd\n",
        "import json\n",
        "\n",
        "# Carregar o arquivo JSON\n",
        "file_path = \"/content/global-car-make-and-model-list/vehicle models.json\"\n",
        "with open(file_path, 'r') as f:\n",
        "    data_json = json.load(f)\n",
        "\n",
        "# Transformar os dados em uma lista de dicionários com Make e cada Modelo\n",
        "expanded_data = []\n",
        "\n",
        "for entry in data_json:\n",
        "    make = entry['Make']\n",
        "    for model in entry['Models']:\n",
        "        expanded_data.append({'Make': make, 'Model': model})\n",
        "\n",
        "# Criar DataFrame\n",
        "car_df = pd.DataFrame(expanded_data)\n",
        "\n",
        "# Exibir o DataFrame\n",
        "print(car_df.head())\n"
      ],
      "metadata": {
        "colab": {
          "base_uri": "https://localhost:8080/"
        },
        "id": "Ci0oe2-WAQ0T",
        "outputId": "10e1bd59-ddd0-4361-f937-7f8be53bf0ad"
      },
      "execution_count": null,
      "outputs": [
        {
          "output_type": "stream",
          "name": "stdout",
          "text": [
            "         Make                Model\n",
            "0  AM General     FJ8c Post Office\n",
            "1  AM General     FJ8c Post Office\n",
            "2  AM General  Post Office DJ5 2WD\n",
            "3  AM General    DJ Po Vehicle 2WD\n",
            "4  AM General    DJ Po Vehicle 2WD\n"
          ]
        }
      ]
    },
    {
      "cell_type": "code",
      "source": [
        "# Verificar os fabricantes únicos no dataset\n",
        "fabricantes = car_df['Make'].unique()\n",
        "print(f\"Fabricantes no dataset: {fabricantes}\")\n",
        "print(f\"Total de fabricantes: {len(fabricantes)}\")\n"
      ],
      "metadata": {
        "colab": {
          "base_uri": "https://localhost:8080/"
        },
        "id": "IgkIfFyY7EK5",
        "outputId": "d547ef21-9468-41db-aaaf-fa8d1c1c1965"
      },
      "execution_count": null,
      "outputs": [
        {
          "output_type": "stream",
          "name": "stdout",
          "text": [
            "Fabricantes no dataset: ['AM General' 'ASC Incorporated' 'Acura' 'Alfa Romeo'\n",
            " 'American Motors Corporation' 'Aston Martin' 'Audi' 'Aurora Cars Ltd'\n",
            " 'Autokraft Limited' 'Avanti Motor Corporation' 'Azure Dynamics' 'BMW'\n",
            " 'BMW Alpina' 'BYD' 'Bentley' 'Bertone' 'Bill Dovell Motor Car Company'\n",
            " 'Bitter Gmbh and Co. Kg' 'Bugatti' 'Buick' 'CCC Engineering'\n",
            " 'CODA Automotive' 'CX Automotive' 'Cadillac' 'Chevrolet' 'Chrysler'\n",
            " 'Consulier Industries Inc' 'Dabryan Coach Builders Inc' 'Dacia' 'Daewoo'\n",
            " 'Daihatsu' 'Dodge' 'E. P. Dutton, Inc.' 'Eagle'\n",
            " 'Environmental Rsch and Devp Corp' 'Evans Automobiles' 'Excalibur Autos'\n",
            " 'Federal Coach' 'Ferrari' 'Fiat' 'Fisker' 'Ford' 'GMC' 'General Motors'\n",
            " 'Genesis' 'Geo' 'Goldacre' 'Grumman Allied Industries' 'Grumman Olson'\n",
            " 'Honda' 'Hummer' 'Hyundai' 'INEOS Automotive'\n",
            " 'Import Foreign Auto Sales Inc' 'Import Trade Services' 'Infiniti'\n",
            " 'Isis Imports Ltd' 'Isuzu' 'J.K. Motors' 'JBA Motorcars, Inc.' 'Jaguar'\n",
            " 'Jeep' 'Kandi' 'Karma' 'Kenyon Corporation Of America' 'Kia' 'Koenigsegg'\n",
            " 'Laforza Automobile Inc' 'Lambda Control Systems' 'Lamborghini'\n",
            " 'Land Rover' 'Lexus' 'Lincoln' 'London Coach Co Inc' 'London Taxi'\n",
            " 'Lordstown' 'Lotus' 'Lucid' 'MINI' 'Mahindra' 'Maserati' 'Maybach'\n",
            " 'Mazda' 'McLaren Automotive' 'Mcevoy Motors' 'Mercedes-Benz' 'Mercury'\n",
            " 'Merkur' 'Mitsubishi' 'Mobility Ventures LLC' 'Morgan' 'Nissan'\n",
            " 'Oldsmobile' 'PAS Inc - GMC' 'PAS, Inc' 'Pagani' 'Panos'\n",
            " 'Panoz Auto-Development' 'Panther Car Company Limited' 'Peugeot'\n",
            " 'Pininfarina' 'Plymouth' 'Polestar' 'Pontiac' 'Porsche'\n",
            " 'Quantum Technologies' 'Qvale' 'RUF Automobile' 'Ram' 'Red Shift Ltd.'\n",
            " 'Renault' 'Rivian' 'Rolls-Royce' 'Roush Performance'\n",
            " 'Ruf Automobile Gmbh' 'S and S Coach Company  E.p. Dutton' 'SRT' 'STI'\n",
            " 'Saab' 'Saleen' 'Saleen Performance' 'Saturn' 'Scion' 'Shelby' 'Spyker'\n",
            " 'Sterling' 'Subaru' 'Superior Coaches Div E.p. Dutton' 'Suzuki'\n",
            " 'TVR Engineering Ltd' 'Tecstar, LP' 'Tesla' 'Texas Coach Company'\n",
            " 'Toyota' 'VPG' 'Vector' 'Vinfast' 'Vixen Motor Company'\n",
            " 'Volga Associated Automobile' 'Volkswagen' 'Volvo'\n",
            " 'Wallace Environmental' 'Yugo' 'smart']\n",
            "Total de fabricantes: 144\n"
          ]
        }
      ]
    },
    {
      "cell_type": "code",
      "source": [
        "import streamlit as st\n",
        "import pandas as pd\n",
        "import matplotlib.pyplot as plt\n",
        "import seaborn as sns\n",
        "\n",
        "# Carregar e processar os dados conforme acima\n",
        "file_path = \"/content/global-car-make-and-model-list/vehicle models.json\"\n",
        "with open(file_path, 'r') as f:\n",
        "    data_json = json.load(f)\n",
        "\n",
        "# Título\n",
        "st.title(\"Dashboard de Marcas e Modelos de Carros\")\n",
        "\n",
        "# Filtro de Fabricante\n",
        "selected_make = st.selectbox(\"Escolha um Fabricante\", car_df['Make'].unique())\n",
        "\n",
        "# Filtrar DataFrame conforme o fabricante escolhido\n",
        "filtered_df = car_df[car_df['Make'] == selected_make]\n",
        "\n",
        "# Exibir dados filtrados\n",
        "st.write(f\"Modelos disponíveis para {selected_make}:\")\n",
        "st.write(filtered_df)\n",
        "\n",
        "# Gráfico de Contagem de Modelos por Fabricante\n",
        "fig, ax = plt.subplots(figsize=(10, 6))\n",
        "sns.countplot(data=car_df, x='Make', order=car_df['Make'].value_counts().index, ax=ax)\n",
        "ax.set_title('Contagem de Modelos por Fabricante')\n",
        "st.pyplot(fig)\n",
        "\n",
        "# Gráfico de Modelos Mais Populares\n",
        "fig, ax = plt.subplots(figsize=(10, 6))\n",
        "sns.countplot(data=filtered_df, y='Model', ax=ax)\n",
        "ax.set_title(f'Modelos Mais Populares de {selected_make}')\n",
        "st.pyplot(fig)\n"
      ],
      "metadata": {
        "colab": {
          "base_uri": "https://localhost:8080/"
        },
        "id": "Y3O5aiC4Bjbl",
        "outputId": "545bc523-ab3d-47eb-e6ce-cff76ee41152"
      },
      "execution_count": null,
      "outputs": [
        {
          "output_type": "stream",
          "name": "stderr",
          "text": [
            "2024-12-11 20:14:41.258 Thread 'MainThread': missing ScriptRunContext! This warning can be ignored when running in bare mode.\n",
            "2024-12-11 20:14:41.261 Thread 'MainThread': missing ScriptRunContext! This warning can be ignored when running in bare mode.\n",
            "2024-12-11 20:14:41.268 Thread 'MainThread': missing ScriptRunContext! This warning can be ignored when running in bare mode.\n",
            "2024-12-11 20:14:41.270 Thread 'MainThread': missing ScriptRunContext! This warning can be ignored when running in bare mode.\n",
            "2024-12-11 20:14:41.275 Thread 'MainThread': missing ScriptRunContext! This warning can be ignored when running in bare mode.\n",
            "2024-12-11 20:14:41.277 Thread 'MainThread': missing ScriptRunContext! This warning can be ignored when running in bare mode.\n",
            "2024-12-11 20:14:41.281 Thread 'MainThread': missing ScriptRunContext! This warning can be ignored when running in bare mode.\n",
            "2024-12-11 20:14:41.283 Thread 'MainThread': missing ScriptRunContext! This warning can be ignored when running in bare mode.\n",
            "2024-12-11 20:14:41.295 Thread 'MainThread': missing ScriptRunContext! This warning can be ignored when running in bare mode.\n",
            "2024-12-11 20:14:41.298 Thread 'MainThread': missing ScriptRunContext! This warning can be ignored when running in bare mode.\n",
            "2024-12-11 20:14:41.300 Thread 'MainThread': missing ScriptRunContext! This warning can be ignored when running in bare mode.\n",
            "2024-12-11 20:14:41.303 Thread 'MainThread': missing ScriptRunContext! This warning can be ignored when running in bare mode.\n",
            "2024-12-11 20:14:41.313 Thread 'MainThread': missing ScriptRunContext! This warning can be ignored when running in bare mode.\n",
            "2024-12-11 20:14:41.316 Thread 'MainThread': missing ScriptRunContext! This warning can be ignored when running in bare mode.\n",
            "2024-12-11 20:14:42.046 Thread 'MainThread': missing ScriptRunContext! This warning can be ignored when running in bare mode.\n",
            "2024-12-11 20:14:43.590 Thread 'MainThread': missing ScriptRunContext! This warning can be ignored when running in bare mode.\n",
            "2024-12-11 20:14:43.593 Thread 'MainThread': missing ScriptRunContext! This warning can be ignored when running in bare mode.\n",
            "2024-12-11 20:14:43.724 Thread 'MainThread': missing ScriptRunContext! This warning can be ignored when running in bare mode.\n",
            "2024-12-11 20:14:44.170 Thread 'MainThread': missing ScriptRunContext! This warning can be ignored when running in bare mode.\n",
            "2024-12-11 20:14:44.172 Thread 'MainThread': missing ScriptRunContext! This warning can be ignored when running in bare mode.\n"
          ]
        },
        {
          "output_type": "execute_result",
          "data": {
            "text/plain": [
              "DeltaGenerator()"
            ]
          },
          "metadata": {},
          "execution_count": 97
        }
      ]
    },
    {
      "cell_type": "code",
      "source": [
        "%%writefile app.py\n",
        "import streamlit as st\n",
        "import pandas as pd\n",
        "import seaborn as sns\n",
        "import matplotlib.pyplot as plt\n",
        "import json\n",
        "\n",
        "# Configurações da página\n",
        "st.set_page_config(page_title=\"Dashboard de Carros\", layout=\"wide\")\n",
        "\n",
        "# Função para carregar e processar os dados\n",
        "@st.cache_data\n",
        "def load_data(json_file):\n",
        "    # Ler o arquivo JSON\n",
        "    with open(json_file, 'r') as f:\n",
        "        data_json = json.load(f)\n",
        "\n",
        "    # Transformar os dados em um formato plano\n",
        "    expanded_data = []\n",
        "    for entry in data_json:\n",
        "        make = entry['Make']\n",
        "        for model in entry['Models']:\n",
        "            expanded_data.append({'Make': make, 'Model': model})\n",
        "\n",
        "    return pd.DataFrame(expanded_data)\n",
        "\n",
        "# Carregar os dados\n",
        "data_file = \"/content/global-car-make-and-model-list/vehicle models.json\"\n",
        "car_df = load_data(data_file)\n",
        "\n",
        "# Título\n",
        "st.title(\"📊 Dashboard de Marcas e Modelos de Carros\")\n",
        "\n",
        "# Configurações gerais do tema\n",
        "sns.set_theme(style=\"whitegrid\")\n",
        "\n",
        "# Adicionando estatísticas à barra lateral\n",
        "st.sidebar.header(\"📊 Estatísticas Gerais\")\n",
        "st.sidebar.write(f\"**Total de Fabricantes:** {car_df['Make'].nunique()}\")\n",
        "st.sidebar.write(f\"**Total de Modelos:** {len(car_df)}\")\n",
        "\n",
        "\n",
        "# Filtro de fabricante\n",
        "st.sidebar.header(\"Filtros\")\n",
        "selected_make = st.sidebar.selectbox(\"Escolha um Fabricante\", options=car_df['Make'].unique(), index=0)\n",
        "\n",
        "# Filtrar os dados com base no fabricante selecionado\n",
        "filtered_df = car_df[car_df['Make'] == selected_make]\n",
        "\n",
        "# Exibir informações sobre o fabricante e seus modelos\n",
        "st.subheader(f\"Modelos de carros do fabricante: **{selected_make}**\")\n",
        "st.write(f\"Total de modelos disponíveis: **{len(filtered_df)}**\")\n",
        "st.dataframe(filtered_df)\n",
        "\n",
        "# Adicionar a descrição do dashboard\n",
        "st.sidebar.markdown(\"\"\"\n",
        "## Sobre o Dashboard\n",
        "Este projeto visualiza dados de marcas e modelos de carros.\n",
        "Recursos:\n",
        "- Distribuição de modelos por fabricante.\n",
        "- Visualização interativa de modelos populares.\n",
        "- Filtros para refinar a análise.\n",
        "\"\"\")\n",
        "\n",
        "# Opção de selecionar o número de fabricantes no primeiro gráfico\n",
        "top_n_makes = st.sidebar.slider(\"Quantos fabricantes exibir?\", min_value=5, max_value=50, value=20, step=5)\n",
        "\n",
        "# Dashboard 1: Gráfico de contagem de modelos por fabricante\n",
        "st.subheader(f\"Distribuição de Modelos por Fabricante (Top {top_n_makes})\")\n",
        "fig1, ax1 = plt.subplots(figsize=(10, 8))\n",
        "top_makes = car_df['Make'].value_counts().head(top_n_makes)\n",
        "sns.barplot(y=top_makes.index, x=top_makes.values, ax=ax1, palette=\"viridis\")\n",
        "ax1.set_title(f\"Top {top_n_makes} Fabricantes com Mais Modelos\", fontsize=14)\n",
        "ax1.set_xlabel(\"Quantidade\")\n",
        "ax1.set_ylabel(\"Fabricantes\")\n",
        "st.pyplot(fig1)\n",
        "\n",
        "# Dashboard 2: Gráfico de modelos mais populares do fabricante selecionado\n",
        "st.subheader(f\"Modelos mais populares de {selected_make}\")\n",
        "if not filtered_df.empty:\n",
        "    fig2, ax2 = plt.subplots(figsize=(10, 6))  # Tamanho ajustado\n",
        "    top_models = filtered_df['Model'].value_counts().head(10)  # número do top que aparece\n",
        "    sns.barplot(y=top_models.index, x=top_models.values, ax=ax2, palette=\"viridis\")\n",
        "    ax2.set_title(f\"Top 10 Modelos de {selected_make}\", fontsize=14)\n",
        "    ax2.set_xlabel(\"Frequência\")\n",
        "    ax2.set_ylabel(\"Modelos\")\n",
        "    st.pyplot(fig2)\n",
        "\n",
        "       # Botão para baixar dados filtrados\n",
        "    st.download_button(\n",
        "        label=\"📥 Baixar Dados Filtrados\",\n",
        "        data=filtered_df.to_csv(index=False),\n",
        "        file_name=f\"{selected_make}_modelos.csv\",\n",
        "        mime=\"text/csv\",\n",
        "    )\n",
        "\n",
        "else:\n",
        "    st.write(\"Nenhum modelo encontrado para o fabricante selecionado.\")\n",
        "\n",
        "\n",
        "# Mensagem de rodapé\n",
        "st.sidebar.markdown(\"Seminário de Análise de Dados\")\n"
      ],
      "metadata": {
        "colab": {
          "base_uri": "https://localhost:8080/"
        },
        "id": "fAbOCmJd26wJ",
        "outputId": "7dd1ab39-4898-4c34-92e0-e99f37419b5d"
      },
      "execution_count": null,
      "outputs": [
        {
          "output_type": "stream",
          "name": "stdout",
          "text": [
            "Writing app.py\n"
          ]
        }
      ]
    },
    {
      "cell_type": "code",
      "source": [
        "%%writefile app2.py\n",
        "import streamlit as st\n",
        "import pandas as pd\n",
        "import seaborn as sns\n",
        "import matplotlib.pyplot as plt\n",
        "import json\n",
        "import plotly.express as px\n",
        "\n",
        "# Configurações da página\n",
        "st.set_page_config(page_title=\"🚗 Dashboard Interativo de Carros\", layout=\"wide\")\n",
        "\n",
        "# Função para carregar e processar os dados\n",
        "@st.cache_data\n",
        "def load_data(json_file):\n",
        "    # Ler o arquivo JSON\n",
        "    with open(json_file, 'r') as f:\n",
        "        data_json = json.load(f)\n",
        "\n",
        "    # Transformar os dados em um formato plano\n",
        "    expanded_data = []\n",
        "    for entry in data_json:\n",
        "        make = entry['Make']\n",
        "        for model in entry['Models']:\n",
        "            expanded_data.append({'Make': make, 'Model': model})\n",
        "\n",
        "    return pd.DataFrame(expanded_data)\n",
        "\n",
        "# Carregar os dados\n",
        "data_file = \"/content/global-car-make-and-model-list/vehicle models.json\"\n",
        "car_df = load_data(data_file)\n",
        "\n",
        "# Título\n",
        "st.title(\"🚗 Dashboard Interativo de Carros\")\n",
        "\n",
        "# Barra lateral com filtros e informações\n",
        "st.sidebar.header(\"Filtros\")\n",
        "selected_make = st.sidebar.selectbox(\"Escolha um Fabricante\", options=car_df['Make'].unique(), index=0)\n",
        "min_models = st.sidebar.slider(\"Modelos mínimos por fabricante:\", 0, 10, 50)\n",
        "filtered_makes = car_df['Make'].value_counts()\n",
        "filtered_makes = filtered_makes[filtered_makes >= min_models]\n",
        "\n",
        "# Filtrar os dados com base no fabricante selecionado\n",
        "filtered_df = car_df[car_df['Make'] == selected_make]\n",
        "\n",
        "# Adicionar a descrição do dashboard\n",
        "st.sidebar.markdown(\"\"\"\n",
        "## Sobre o Dashboard\n",
        "Este projeto visualiza dados de marcas e modelos de carros.\n",
        "Recursos:\n",
        "- Distribuição de modelos por fabricante.\n",
        "- Visualização interativa de modelos populares.\n",
        "- Filtros para refinar a análise.\n",
        "\"\"\")\n",
        "\n",
        "# Exibir informações sobre o fabricante e seus modelos\n",
        "st.subheader(f\"Modelos de carros do fabricante: **{selected_make}**\")\n",
        "st.write(f\"Total de modelos disponíveis: **{len(filtered_df)}**\")\n",
        "st.dataframe(filtered_df)\n",
        "\n",
        "# Adicionando abas para organizar os gráficos\n",
        "tab1, tab2 = st.tabs([\"📊 Distribuição por Fabricante\", \"📈 Modelos Populares\"])\n",
        "\n",
        "with tab1:\n",
        "    # Dashboard 1: Gráfico de contagem de modelos por fabricante\n",
        "    st.subheader(\"Distribuição de Modelos por Fabricante\")\n",
        "    fig1, ax1 = plt.subplots(figsize=(12, 6))\n",
        "    sns.countplot(data=car_df, y=\"Make\", order=car_df['Make'].value_counts().index, ax=ax1)\n",
        "    ax1.set_title(\"Número de Modelos por Fabricante\", fontsize=14)\n",
        "    ax1.set_xlabel(\"Quantidade\")\n",
        "    ax1.set_ylabel(\"Fabricantes\")\n",
        "    st.pyplot(fig1)\n",
        "\n",
        "with tab2:\n",
        "    # Dashboard 2: Gráfico de modelos mais populares do fabricante selecionado\n",
        "    st.subheader(f\"Modelos mais populares de {selected_make}\")\n",
        "    fig2, ax2 = plt.subplots(figsize=(12, 6))\n",
        "    sns.countplot(data=filtered_df, y=\"Model\", order=filtered_df['Model'].value_counts().index[:10], ax=ax2)\n",
        "    ax2.set_title(f\"Top 10 Modelos de {selected_make}\", fontsize=14)\n",
        "    ax2.set_xlabel(\"Frequência\")\n",
        "    ax2.set_ylabel(\"Modelos\")\n",
        "    st.pyplot(fig2)\n",
        "\n",
        "    # Exibir gráfico interativo com Plotly (se desejar adicionar interatividade)\n",
        "    st.subheader(\"Distribuição Interativa de Modelos\")\n",
        "    fig3 = px.bar(filtered_df['Model'].value_counts().reset_index(),\n",
        "                  x=\"index\", y=\"Model\", title=f\"Modelos de {selected_make}\")\n",
        "    st.plotly_chart(fig3)\n",
        "\n",
        "# Exibir informações adicionais ou insights automáticos\n",
        "if st.button(\"📊 Gerar Insights\"):\n",
        "    top_make = car_df['Make'].value_counts().idxmax()\n",
        "    st.write(f\"O fabricante com mais modelos é: **{top_make}**, com **{car_df['Make'].value_counts().max()}** modelos!\")\n",
        "\n",
        "# Mensagem de rodapé\n",
        "st.sidebar.markdown(\"Seminário de Analise de Dados\")\n"
      ],
      "metadata": {
        "colab": {
          "base_uri": "https://localhost:8080/"
        },
        "id": "fs0zO4XPDEzF",
        "outputId": "b0f2861b-6156-46ce-9cab-e9c3591af35b"
      },
      "execution_count": null,
      "outputs": [
        {
          "output_type": "stream",
          "name": "stdout",
          "text": [
            "Writing app2.py\n"
          ]
        }
      ]
    },
    {
      "cell_type": "code",
      "source": [
        "!pip install streamlit seaborn\n"
      ],
      "metadata": {
        "colab": {
          "base_uri": "https://localhost:8080/"
        },
        "id": "7nQGlEc130to",
        "outputId": "673a8ee2-e465-4dfd-d4be-294a6806a331"
      },
      "execution_count": null,
      "outputs": [
        {
          "output_type": "stream",
          "name": "stdout",
          "text": [
            "Requirement already satisfied: streamlit in /usr/local/lib/python3.10/dist-packages (1.41.0)\n",
            "Requirement already satisfied: seaborn in /usr/local/lib/python3.10/dist-packages (0.13.2)\n",
            "Requirement already satisfied: altair<6,>=4.0 in /usr/local/lib/python3.10/dist-packages (from streamlit) (4.2.2)\n",
            "Requirement already satisfied: blinker<2,>=1.0.0 in /usr/local/lib/python3.10/dist-packages (from streamlit) (1.9.0)\n",
            "Requirement already satisfied: cachetools<6,>=4.0 in /usr/local/lib/python3.10/dist-packages (from streamlit) (5.5.0)\n",
            "Requirement already satisfied: click<9,>=7.0 in /usr/local/lib/python3.10/dist-packages (from streamlit) (8.1.7)\n",
            "Requirement already satisfied: numpy<3,>=1.23 in /usr/local/lib/python3.10/dist-packages (from streamlit) (1.26.4)\n",
            "Requirement already satisfied: packaging<25,>=20 in /usr/local/lib/python3.10/dist-packages (from streamlit) (24.2)\n",
            "Requirement already satisfied: pandas<3,>=1.4.0 in /usr/local/lib/python3.10/dist-packages (from streamlit) (2.2.2)\n",
            "Requirement already satisfied: pillow<12,>=7.1.0 in /usr/local/lib/python3.10/dist-packages (from streamlit) (11.0.0)\n",
            "Requirement already satisfied: protobuf<6,>=3.20 in /usr/local/lib/python3.10/dist-packages (from streamlit) (4.25.5)\n",
            "Requirement already satisfied: pyarrow>=7.0 in /usr/local/lib/python3.10/dist-packages (from streamlit) (17.0.0)\n",
            "Requirement already satisfied: requests<3,>=2.27 in /usr/local/lib/python3.10/dist-packages (from streamlit) (2.32.3)\n",
            "Requirement already satisfied: rich<14,>=10.14.0 in /usr/local/lib/python3.10/dist-packages (from streamlit) (13.9.4)\n",
            "Requirement already satisfied: tenacity<10,>=8.1.0 in /usr/local/lib/python3.10/dist-packages (from streamlit) (9.0.0)\n",
            "Requirement already satisfied: toml<2,>=0.10.1 in /usr/local/lib/python3.10/dist-packages (from streamlit) (0.10.2)\n",
            "Requirement already satisfied: typing-extensions<5,>=4.3.0 in /usr/local/lib/python3.10/dist-packages (from streamlit) (4.12.2)\n",
            "Requirement already satisfied: watchdog<7,>=2.1.5 in /usr/local/lib/python3.10/dist-packages (from streamlit) (6.0.0)\n",
            "Requirement already satisfied: gitpython!=3.1.19,<4,>=3.0.7 in /usr/local/lib/python3.10/dist-packages (from streamlit) (3.1.43)\n",
            "Requirement already satisfied: pydeck<1,>=0.8.0b4 in /usr/local/lib/python3.10/dist-packages (from streamlit) (0.9.1)\n",
            "Requirement already satisfied: tornado<7,>=6.0.3 in /usr/local/lib/python3.10/dist-packages (from streamlit) (6.3.3)\n",
            "Requirement already satisfied: matplotlib!=3.6.1,>=3.4 in /usr/local/lib/python3.10/dist-packages (from seaborn) (3.8.0)\n",
            "Requirement already satisfied: entrypoints in /usr/local/lib/python3.10/dist-packages (from altair<6,>=4.0->streamlit) (0.4)\n",
            "Requirement already satisfied: jinja2 in /usr/local/lib/python3.10/dist-packages (from altair<6,>=4.0->streamlit) (3.1.4)\n",
            "Requirement already satisfied: jsonschema>=3.0 in /usr/local/lib/python3.10/dist-packages (from altair<6,>=4.0->streamlit) (4.23.0)\n",
            "Requirement already satisfied: toolz in /usr/local/lib/python3.10/dist-packages (from altair<6,>=4.0->streamlit) (0.12.1)\n",
            "Requirement already satisfied: gitdb<5,>=4.0.1 in /usr/local/lib/python3.10/dist-packages (from gitpython!=3.1.19,<4,>=3.0.7->streamlit) (4.0.11)\n",
            "Requirement already satisfied: contourpy>=1.0.1 in /usr/local/lib/python3.10/dist-packages (from matplotlib!=3.6.1,>=3.4->seaborn) (1.3.1)\n",
            "Requirement already satisfied: cycler>=0.10 in /usr/local/lib/python3.10/dist-packages (from matplotlib!=3.6.1,>=3.4->seaborn) (0.12.1)\n",
            "Requirement already satisfied: fonttools>=4.22.0 in /usr/local/lib/python3.10/dist-packages (from matplotlib!=3.6.1,>=3.4->seaborn) (4.55.1)\n",
            "Requirement already satisfied: kiwisolver>=1.0.1 in /usr/local/lib/python3.10/dist-packages (from matplotlib!=3.6.1,>=3.4->seaborn) (1.4.7)\n",
            "Requirement already satisfied: pyparsing>=2.3.1 in /usr/local/lib/python3.10/dist-packages (from matplotlib!=3.6.1,>=3.4->seaborn) (3.2.0)\n",
            "Requirement already satisfied: python-dateutil>=2.7 in /usr/local/lib/python3.10/dist-packages (from matplotlib!=3.6.1,>=3.4->seaborn) (2.8.2)\n",
            "Requirement already satisfied: pytz>=2020.1 in /usr/local/lib/python3.10/dist-packages (from pandas<3,>=1.4.0->streamlit) (2024.2)\n",
            "Requirement already satisfied: tzdata>=2022.7 in /usr/local/lib/python3.10/dist-packages (from pandas<3,>=1.4.0->streamlit) (2024.2)\n",
            "Requirement already satisfied: charset-normalizer<4,>=2 in /usr/local/lib/python3.10/dist-packages (from requests<3,>=2.27->streamlit) (3.4.0)\n",
            "Requirement already satisfied: idna<4,>=2.5 in /usr/local/lib/python3.10/dist-packages (from requests<3,>=2.27->streamlit) (3.10)\n",
            "Requirement already satisfied: urllib3<3,>=1.21.1 in /usr/local/lib/python3.10/dist-packages (from requests<3,>=2.27->streamlit) (2.2.3)\n",
            "Requirement already satisfied: certifi>=2017.4.17 in /usr/local/lib/python3.10/dist-packages (from requests<3,>=2.27->streamlit) (2024.8.30)\n",
            "Requirement already satisfied: markdown-it-py>=2.2.0 in /usr/local/lib/python3.10/dist-packages (from rich<14,>=10.14.0->streamlit) (3.0.0)\n",
            "Requirement already satisfied: pygments<3.0.0,>=2.13.0 in /usr/local/lib/python3.10/dist-packages (from rich<14,>=10.14.0->streamlit) (2.18.0)\n",
            "Requirement already satisfied: smmap<6,>=3.0.1 in /usr/local/lib/python3.10/dist-packages (from gitdb<5,>=4.0.1->gitpython!=3.1.19,<4,>=3.0.7->streamlit) (5.0.1)\n",
            "Requirement already satisfied: MarkupSafe>=2.0 in /usr/local/lib/python3.10/dist-packages (from jinja2->altair<6,>=4.0->streamlit) (3.0.2)\n",
            "Requirement already satisfied: attrs>=22.2.0 in /usr/local/lib/python3.10/dist-packages (from jsonschema>=3.0->altair<6,>=4.0->streamlit) (24.2.0)\n",
            "Requirement already satisfied: jsonschema-specifications>=2023.03.6 in /usr/local/lib/python3.10/dist-packages (from jsonschema>=3.0->altair<6,>=4.0->streamlit) (2024.10.1)\n",
            "Requirement already satisfied: referencing>=0.28.4 in /usr/local/lib/python3.10/dist-packages (from jsonschema>=3.0->altair<6,>=4.0->streamlit) (0.35.1)\n",
            "Requirement already satisfied: rpds-py>=0.7.1 in /usr/local/lib/python3.10/dist-packages (from jsonschema>=3.0->altair<6,>=4.0->streamlit) (0.22.3)\n",
            "Requirement already satisfied: mdurl~=0.1 in /usr/local/lib/python3.10/dist-packages (from markdown-it-py>=2.2.0->rich<14,>=10.14.0->streamlit) (0.1.2)\n",
            "Requirement already satisfied: six>=1.5 in /usr/local/lib/python3.10/dist-packages (from python-dateutil>=2.7->matplotlib!=3.6.1,>=3.4->seaborn) (1.16.0)\n"
          ]
        }
      ]
    },
    {
      "cell_type": "code",
      "source": [
        "!pip install --upgrade streamlit"
      ],
      "metadata": {
        "colab": {
          "base_uri": "https://localhost:8080/"
        },
        "id": "4EUqDTuj8QzR",
        "outputId": "037ed2aa-952c-40fc-87ae-c2c79dfdd6fa"
      },
      "execution_count": null,
      "outputs": [
        {
          "output_type": "stream",
          "name": "stdout",
          "text": [
            "Requirement already satisfied: streamlit in /usr/local/lib/python3.10/dist-packages (1.41.0)\n",
            "Requirement already satisfied: altair<6,>=4.0 in /usr/local/lib/python3.10/dist-packages (from streamlit) (4.2.2)\n",
            "Requirement already satisfied: blinker<2,>=1.0.0 in /usr/local/lib/python3.10/dist-packages (from streamlit) (1.9.0)\n",
            "Requirement already satisfied: cachetools<6,>=4.0 in /usr/local/lib/python3.10/dist-packages (from streamlit) (5.5.0)\n",
            "Requirement already satisfied: click<9,>=7.0 in /usr/local/lib/python3.10/dist-packages (from streamlit) (8.1.7)\n",
            "Requirement already satisfied: numpy<3,>=1.23 in /usr/local/lib/python3.10/dist-packages (from streamlit) (1.26.4)\n",
            "Requirement already satisfied: packaging<25,>=20 in /usr/local/lib/python3.10/dist-packages (from streamlit) (24.2)\n",
            "Requirement already satisfied: pandas<3,>=1.4.0 in /usr/local/lib/python3.10/dist-packages (from streamlit) (2.2.2)\n",
            "Requirement already satisfied: pillow<12,>=7.1.0 in /usr/local/lib/python3.10/dist-packages (from streamlit) (11.0.0)\n",
            "Requirement already satisfied: protobuf<6,>=3.20 in /usr/local/lib/python3.10/dist-packages (from streamlit) (4.25.5)\n",
            "Requirement already satisfied: pyarrow>=7.0 in /usr/local/lib/python3.10/dist-packages (from streamlit) (17.0.0)\n",
            "Requirement already satisfied: requests<3,>=2.27 in /usr/local/lib/python3.10/dist-packages (from streamlit) (2.32.3)\n",
            "Requirement already satisfied: rich<14,>=10.14.0 in /usr/local/lib/python3.10/dist-packages (from streamlit) (13.9.4)\n",
            "Requirement already satisfied: tenacity<10,>=8.1.0 in /usr/local/lib/python3.10/dist-packages (from streamlit) (9.0.0)\n",
            "Requirement already satisfied: toml<2,>=0.10.1 in /usr/local/lib/python3.10/dist-packages (from streamlit) (0.10.2)\n",
            "Requirement already satisfied: typing-extensions<5,>=4.3.0 in /usr/local/lib/python3.10/dist-packages (from streamlit) (4.12.2)\n",
            "Requirement already satisfied: watchdog<7,>=2.1.5 in /usr/local/lib/python3.10/dist-packages (from streamlit) (6.0.0)\n",
            "Requirement already satisfied: gitpython!=3.1.19,<4,>=3.0.7 in /usr/local/lib/python3.10/dist-packages (from streamlit) (3.1.43)\n",
            "Requirement already satisfied: pydeck<1,>=0.8.0b4 in /usr/local/lib/python3.10/dist-packages (from streamlit) (0.9.1)\n",
            "Requirement already satisfied: tornado<7,>=6.0.3 in /usr/local/lib/python3.10/dist-packages (from streamlit) (6.3.3)\n",
            "Requirement already satisfied: entrypoints in /usr/local/lib/python3.10/dist-packages (from altair<6,>=4.0->streamlit) (0.4)\n",
            "Requirement already satisfied: jinja2 in /usr/local/lib/python3.10/dist-packages (from altair<6,>=4.0->streamlit) (3.1.4)\n",
            "Requirement already satisfied: jsonschema>=3.0 in /usr/local/lib/python3.10/dist-packages (from altair<6,>=4.0->streamlit) (4.23.0)\n",
            "Requirement already satisfied: toolz in /usr/local/lib/python3.10/dist-packages (from altair<6,>=4.0->streamlit) (0.12.1)\n",
            "Requirement already satisfied: gitdb<5,>=4.0.1 in /usr/local/lib/python3.10/dist-packages (from gitpython!=3.1.19,<4,>=3.0.7->streamlit) (4.0.11)\n",
            "Requirement already satisfied: python-dateutil>=2.8.2 in /usr/local/lib/python3.10/dist-packages (from pandas<3,>=1.4.0->streamlit) (2.8.2)\n",
            "Requirement already satisfied: pytz>=2020.1 in /usr/local/lib/python3.10/dist-packages (from pandas<3,>=1.4.0->streamlit) (2024.2)\n",
            "Requirement already satisfied: tzdata>=2022.7 in /usr/local/lib/python3.10/dist-packages (from pandas<3,>=1.4.0->streamlit) (2024.2)\n",
            "Requirement already satisfied: charset-normalizer<4,>=2 in /usr/local/lib/python3.10/dist-packages (from requests<3,>=2.27->streamlit) (3.4.0)\n",
            "Requirement already satisfied: idna<4,>=2.5 in /usr/local/lib/python3.10/dist-packages (from requests<3,>=2.27->streamlit) (3.10)\n",
            "Requirement already satisfied: urllib3<3,>=1.21.1 in /usr/local/lib/python3.10/dist-packages (from requests<3,>=2.27->streamlit) (2.2.3)\n",
            "Requirement already satisfied: certifi>=2017.4.17 in /usr/local/lib/python3.10/dist-packages (from requests<3,>=2.27->streamlit) (2024.8.30)\n",
            "Requirement already satisfied: markdown-it-py>=2.2.0 in /usr/local/lib/python3.10/dist-packages (from rich<14,>=10.14.0->streamlit) (3.0.0)\n",
            "Requirement already satisfied: pygments<3.0.0,>=2.13.0 in /usr/local/lib/python3.10/dist-packages (from rich<14,>=10.14.0->streamlit) (2.18.0)\n",
            "Requirement already satisfied: smmap<6,>=3.0.1 in /usr/local/lib/python3.10/dist-packages (from gitdb<5,>=4.0.1->gitpython!=3.1.19,<4,>=3.0.7->streamlit) (5.0.1)\n",
            "Requirement already satisfied: MarkupSafe>=2.0 in /usr/local/lib/python3.10/dist-packages (from jinja2->altair<6,>=4.0->streamlit) (3.0.2)\n",
            "Requirement already satisfied: attrs>=22.2.0 in /usr/local/lib/python3.10/dist-packages (from jsonschema>=3.0->altair<6,>=4.0->streamlit) (24.2.0)\n",
            "Requirement already satisfied: jsonschema-specifications>=2023.03.6 in /usr/local/lib/python3.10/dist-packages (from jsonschema>=3.0->altair<6,>=4.0->streamlit) (2024.10.1)\n",
            "Requirement already satisfied: referencing>=0.28.4 in /usr/local/lib/python3.10/dist-packages (from jsonschema>=3.0->altair<6,>=4.0->streamlit) (0.35.1)\n",
            "Requirement already satisfied: rpds-py>=0.7.1 in /usr/local/lib/python3.10/dist-packages (from jsonschema>=3.0->altair<6,>=4.0->streamlit) (0.22.3)\n",
            "Requirement already satisfied: mdurl~=0.1 in /usr/local/lib/python3.10/dist-packages (from markdown-it-py>=2.2.0->rich<14,>=10.14.0->streamlit) (0.1.2)\n",
            "Requirement already satisfied: six>=1.5 in /usr/local/lib/python3.10/dist-packages (from python-dateutil>=2.8.2->pandas<3,>=1.4.0->streamlit) (1.16.0)\n"
          ]
        }
      ]
    },
    {
      "cell_type": "code",
      "source": [
        "#criando \"senha\" serve para os 2 app\n",
        "import urllib\n",
        "print(\"Password/Enpoint IP for localtunnel is:\",\\\n",
        "urllib.request.urlopen('https://ipv4.icanhazip.com').\\\n",
        "read().decode('utf8').strip(\"\\n\"))"
      ],
      "metadata": {
        "id": "1jZyXMHM4KsF",
        "colab": {
          "base_uri": "https://localhost:8080/"
        },
        "outputId": "b4554601-5c5f-4ba8-c5ab-48e27ec860a3"
      },
      "execution_count": null,
      "outputs": [
        {
          "output_type": "stream",
          "name": "stdout",
          "text": [
            "Password/Enpoint IP for localtunnel is: 35.196.203.197\n"
          ]
        }
      ]
    },
    {
      "cell_type": "code",
      "source": [
        "!streamlit run app.py & npx localtunnel --port 8501\n"
      ],
      "metadata": {
        "colab": {
          "base_uri": "https://localhost:8080/"
        },
        "id": "Oe9gWtbz35Pm",
        "outputId": "c9f67e30-a182-40b5-a58b-bbf8b23fac15"
      },
      "execution_count": null,
      "outputs": [
        {
          "output_type": "stream",
          "name": "stdout",
          "text": [
            "\n",
            "Collecting usage statistics. To deactivate, set browser.gatherUsageStats to false.\n",
            "\u001b[0m\n",
            "\u001b[1G\u001b[0K⠙\u001b[1G\u001b[0K⠹\u001b[1G\u001b[0K⠸\u001b[1G\u001b[0K⠼\u001b[1G\u001b[0K⠴\u001b[0m\n",
            "\u001b[34m\u001b[1m  You can now view your Streamlit app in your browser.\u001b[0m\n",
            "\u001b[0m\n",
            "\u001b[34m  Local URL: \u001b[0m\u001b[1mhttp://localhost:8501\u001b[0m\n",
            "\u001b[34m  Network URL: \u001b[0m\u001b[1mhttp://172.28.0.12:8501\u001b[0m\n",
            "\u001b[34m  External URL: \u001b[0m\u001b[1mhttp://35.196.203.197:8501\u001b[0m\n",
            "\u001b[0m\n",
            "\u001b[1G\u001b[0K⠦\u001b[1G\u001b[0K⠧\u001b[1G\u001b[0K⠇\u001b[1G\u001b[0K⠏\u001b[1G\u001b[0Kyour url is: https://dark-sheep-smell.loca.lt\n",
            "/content/app.py:71: FutureWarning: \n",
            "\n",
            "Passing `palette` without assigning `hue` is deprecated and will be removed in v0.14.0. Assign the `y` variable to `hue` and set `legend=False` for the same effect.\n",
            "\n",
            "  sns.barplot(y=top_makes.index, x=top_makes.values, ax=ax1, palette=\"viridis\")\n",
            "/content/app.py:82: FutureWarning: \n",
            "\n",
            "Passing `palette` without assigning `hue` is deprecated and will be removed in v0.14.0. Assign the `y` variable to `hue` and set `legend=False` for the same effect.\n",
            "\n",
            "  sns.barplot(y=top_models.index, x=top_models.values, ax=ax2, palette=\"viridis\")\n",
            "/content/app.py:71: FutureWarning: \n",
            "\n",
            "Passing `palette` without assigning `hue` is deprecated and will be removed in v0.14.0. Assign the `y` variable to `hue` and set `legend=False` for the same effect.\n",
            "\n",
            "  sns.barplot(y=top_makes.index, x=top_makes.values, ax=ax1, palette=\"viridis\")\n",
            "/content/app.py:82: FutureWarning: \n",
            "\n",
            "Passing `palette` without assigning `hue` is deprecated and will be removed in v0.14.0. Assign the `y` variable to `hue` and set `legend=False` for the same effect.\n",
            "\n",
            "  sns.barplot(y=top_models.index, x=top_models.values, ax=ax2, palette=\"viridis\")\n",
            "/content/app.py:71: FutureWarning: \n",
            "\n",
            "Passing `palette` without assigning `hue` is deprecated and will be removed in v0.14.0. Assign the `y` variable to `hue` and set `legend=False` for the same effect.\n",
            "\n",
            "  sns.barplot(y=top_makes.index, x=top_makes.values, ax=ax1, palette=\"viridis\")\n",
            "/content/app.py:82: FutureWarning: \n",
            "\n",
            "Passing `palette` without assigning `hue` is deprecated and will be removed in v0.14.0. Assign the `y` variable to `hue` and set `legend=False` for the same effect.\n",
            "\n",
            "  sns.barplot(y=top_models.index, x=top_models.values, ax=ax2, palette=\"viridis\")\n",
            "/content/app.py:71: FutureWarning: \n",
            "\n",
            "Passing `palette` without assigning `hue` is deprecated and will be removed in v0.14.0. Assign the `y` variable to `hue` and set `legend=False` for the same effect.\n",
            "\n",
            "  sns.barplot(y=top_makes.index, x=top_makes.values, ax=ax1, palette=\"viridis\")\n",
            "/content/app.py:82: FutureWarning: \n",
            "\n",
            "Passing `palette` without assigning `hue` is deprecated and will be removed in v0.14.0. Assign the `y` variable to `hue` and set `legend=False` for the same effect.\n",
            "\n",
            "  sns.barplot(y=top_models.index, x=top_models.values, ax=ax2, palette=\"viridis\")\n",
            "/content/app.py:71: FutureWarning: \n",
            "\n",
            "Passing `palette` without assigning `hue` is deprecated and will be removed in v0.14.0. Assign the `y` variable to `hue` and set `legend=False` for the same effect.\n",
            "\n",
            "  sns.barplot(y=top_makes.index, x=top_makes.values, ax=ax1, palette=\"viridis\")\n",
            "/content/app.py:82: FutureWarning: \n",
            "\n",
            "Passing `palette` without assigning `hue` is deprecated and will be removed in v0.14.0. Assign the `y` variable to `hue` and set `legend=False` for the same effect.\n",
            "\n",
            "  sns.barplot(y=top_models.index, x=top_models.values, ax=ax2, palette=\"viridis\")\n"
          ]
        }
      ]
    },
    {
      "cell_type": "code",
      "source": [
        "!streamlit run app2.py & npx localtunnel --port 8501"
      ],
      "metadata": {
        "colab": {
          "base_uri": "https://localhost:8080/"
        },
        "id": "I_YkjSj17gd9",
        "outputId": "bd202ad1-15e2-4acc-ee88-3bfa88b2e9b6"
      },
      "execution_count": null,
      "outputs": [
        {
          "output_type": "stream",
          "name": "stdout",
          "text": [
            "\n",
            "Collecting usage statistics. To deactivate, set browser.gatherUsageStats to false.\n",
            "\u001b[0m\n",
            "\u001b[1G\u001b[0K⠙\u001b[1G\u001b[0K⠹\u001b[1G\u001b[0K⠸\u001b[1G\u001b[0K⠼\u001b[1G\u001b[0K⠴\u001b[0m\n",
            "\u001b[34m\u001b[1m  You can now view your Streamlit app in your browser.\u001b[0m\n",
            "\u001b[0m\n",
            "\u001b[34m  Local URL: \u001b[0m\u001b[1mhttp://localhost:8501\u001b[0m\n",
            "\u001b[34m  Network URL: \u001b[0m\u001b[1mhttp://172.28.0.12:8501\u001b[0m\n",
            "\u001b[34m  External URL: \u001b[0m\u001b[1mhttp://35.196.203.197:8501\u001b[0m\n",
            "\u001b[0m\n",
            "\u001b[1G\u001b[0K⠦\u001b[1G\u001b[0Kyour url is: https://long-dryers-tap.loca.lt\n",
            "2024-12-11 19:16:28.515 Uncaught app execution\n",
            "Traceback (most recent call last):\n",
            "  File \"/usr/local/lib/python3.10/dist-packages/streamlit/runtime/scriptrunner/exec_code.py\", line 88, in exec_func_with_error_handling\n",
            "    result = func()\n",
            "  File \"/usr/local/lib/python3.10/dist-packages/streamlit/runtime/scriptrunner/script_runner.py\", line 579, in code_to_exec\n",
            "    exec(code, module.__dict__)\n",
            "  File \"/content/app2.py\", line 84, in <module>\n",
            "    fig3 = px.bar(filtered_df['Model'].value_counts().reset_index(),\n",
            "  File \"/usr/local/lib/python3.10/dist-packages/plotly/express/_chart_types.py\", line 373, in bar\n",
            "    return make_figure(\n",
            "  File \"/usr/local/lib/python3.10/dist-packages/plotly/express/_core.py\", line 2117, in make_figure\n",
            "    args = build_dataframe(args, constructor)\n",
            "  File \"/usr/local/lib/python3.10/dist-packages/plotly/express/_core.py\", line 1513, in build_dataframe\n",
            "    df_output, wide_id_vars = process_args_into_dataframe(\n",
            "  File \"/usr/local/lib/python3.10/dist-packages/plotly/express/_core.py\", line 1234, in process_args_into_dataframe\n",
            "    raise ValueError(err_msg)\n",
            "ValueError: Value of 'x' is not the name of a column in 'data_frame'. Expected one of ['Model', 'count'] but received: index\n",
            " To use the index, pass it in directly as `df.index`.\n",
            "2024-12-11 19:17:25.669 Uncaught app execution\n",
            "Traceback (most recent call last):\n",
            "  File \"/usr/local/lib/python3.10/dist-packages/streamlit/runtime/scriptrunner/exec_code.py\", line 88, in exec_func_with_error_handling\n",
            "    result = func()\n",
            "  File \"/usr/local/lib/python3.10/dist-packages/streamlit/runtime/scriptrunner/script_runner.py\", line 579, in code_to_exec\n",
            "    exec(code, module.__dict__)\n",
            "  File \"/content/app2.py\", line 84, in <module>\n",
            "    fig3 = px.bar(filtered_df['Model'].value_counts().reset_index(),\n",
            "  File \"/usr/local/lib/python3.10/dist-packages/plotly/express/_chart_types.py\", line 373, in bar\n",
            "    return make_figure(\n",
            "  File \"/usr/local/lib/python3.10/dist-packages/plotly/express/_core.py\", line 2117, in make_figure\n",
            "    args = build_dataframe(args, constructor)\n",
            "  File \"/usr/local/lib/python3.10/dist-packages/plotly/express/_core.py\", line 1513, in build_dataframe\n",
            "    df_output, wide_id_vars = process_args_into_dataframe(\n",
            "  File \"/usr/local/lib/python3.10/dist-packages/plotly/express/_core.py\", line 1234, in process_args_into_dataframe\n",
            "    raise ValueError(err_msg)\n",
            "ValueError: Value of 'x' is not the name of a column in 'data_frame'. Expected one of ['Model', 'count'] but received: index\n",
            " To use the index, pass it in directly as `df.index`.\n",
            "2024-12-11 19:17:51.875 Uncaught app execution\n",
            "Traceback (most recent call last):\n",
            "  File \"/usr/local/lib/python3.10/dist-packages/streamlit/runtime/scriptrunner/exec_code.py\", line 88, in exec_func_with_error_handling\n",
            "    result = func()\n",
            "  File \"/usr/local/lib/python3.10/dist-packages/streamlit/runtime/scriptrunner/script_runner.py\", line 579, in code_to_exec\n",
            "    exec(code, module.__dict__)\n",
            "  File \"/content/app2.py\", line 84, in <module>\n",
            "    fig3 = px.bar(filtered_df['Model'].value_counts().reset_index(),\n",
            "  File \"/usr/local/lib/python3.10/dist-packages/plotly/express/_chart_types.py\", line 373, in bar\n",
            "    return make_figure(\n",
            "  File \"/usr/local/lib/python3.10/dist-packages/plotly/express/_core.py\", line 2117, in make_figure\n",
            "    args = build_dataframe(args, constructor)\n",
            "  File \"/usr/local/lib/python3.10/dist-packages/plotly/express/_core.py\", line 1513, in build_dataframe\n",
            "    df_output, wide_id_vars = process_args_into_dataframe(\n",
            "  File \"/usr/local/lib/python3.10/dist-packages/plotly/express/_core.py\", line 1234, in process_args_into_dataframe\n",
            "    raise ValueError(err_msg)\n",
            "ValueError: Value of 'x' is not the name of a column in 'data_frame'. Expected one of ['Model', 'count'] but received: index\n",
            " To use the index, pass it in directly as `df.index`.\n",
            "2024-12-11 19:18:03.508 Uncaught app execution\n",
            "Traceback (most recent call last):\n",
            "  File \"/usr/local/lib/python3.10/dist-packages/streamlit/runtime/scriptrunner/exec_code.py\", line 88, in exec_func_with_error_handling\n",
            "    result = func()\n",
            "  File \"/usr/local/lib/python3.10/dist-packages/streamlit/runtime/scriptrunner/script_runner.py\", line 579, in code_to_exec\n",
            "    exec(code, module.__dict__)\n",
            "  File \"/content/app2.py\", line 84, in <module>\n",
            "    fig3 = px.bar(filtered_df['Model'].value_counts().reset_index(),\n",
            "  File \"/usr/local/lib/python3.10/dist-packages/plotly/express/_chart_types.py\", line 373, in bar\n",
            "    return make_figure(\n",
            "  File \"/usr/local/lib/python3.10/dist-packages/plotly/express/_core.py\", line 2117, in make_figure\n",
            "    args = build_dataframe(args, constructor)\n",
            "  File \"/usr/local/lib/python3.10/dist-packages/plotly/express/_core.py\", line 1513, in build_dataframe\n",
            "    df_output, wide_id_vars = process_args_into_dataframe(\n",
            "  File \"/usr/local/lib/python3.10/dist-packages/plotly/express/_core.py\", line 1234, in process_args_into_dataframe\n",
            "    raise ValueError(err_msg)\n",
            "ValueError: Value of 'x' is not the name of a column in 'data_frame'. Expected one of ['Model', 'count'] but received: index\n",
            " To use the index, pass it in directly as `df.index`.\n",
            "\u001b[34m  Stopping...\u001b[0m\n",
            "^C\n"
          ]
        }
      ]
    }
  ]
}